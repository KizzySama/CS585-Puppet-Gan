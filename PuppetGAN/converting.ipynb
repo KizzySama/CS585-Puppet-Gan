{
 "cells": [
  {
   "cell_type": "code",
   "execution_count": 1,
   "metadata": {},
   "outputs": [],
   "source": [
    "import os\n",
    "import cv2\n",
    "import numpy as np\n",
    "from os import listdir\n",
    "from os.path import isfile, join\n",
    "path = '/projectnb2/cs505/yizh'"
   ]
  },
  {
   "cell_type": "code",
   "execution_count": 2,
   "metadata": {},
   "outputs": [],
   "source": [
    "def getFrame(sec,count,filename):\n",
    "    vidcap.set(cv2.CAP_PROP_POS_MSEC,sec*1000)\n",
    "    stroing_path = '/projectnb2/cs505/yizh/pj_data' #place to store png\n",
    "    hasFrames,image = vidcap.read()\n",
    "    if hasFrames:\n",
    "#         cropped = image[8:136, 26:154]\n",
    "#         dim = (256, 256)\n",
    "\n",
    "#         resized = cv2.resize(cropped, dim, interpolation = cv2.INTER_AREA)\n",
    "        cv2.imwrite(os.path.join(stroing_path,'image'+str(0)+\".png\"), image)     # save frame as JPG file\n",
    "    return hasFrames"
   ]
  },
  {
   "cell_type": "code",
   "execution_count": 15,
   "metadata": {},
   "outputs": [],
   "source": [
    "# filename = 'background.avi'\n",
    "# vidcap = cv2.VideoCapture(path+'/'+filename)\n",
    "# success = getFrame(0,0)"
   ]
  },
  {
   "cell_type": "code",
   "execution_count": 6,
   "metadata": {},
   "outputs": [],
   "source": [
    "import cv2\n",
    "count = 0\n",
    "for filename in os.listdir(path+'/bg'):\n",
    "\n",
    "    img_count = 0\n",
    "    #if filename.startswith('.'):\n",
    "    #    os.remove(path+'/'+filename)\n",
    "    vidcap = cv2.VideoCapture(path+'/bg/'+filename)\n",
    "    sec = 0\n",
    "    frameRate = 0.2 #//it will capture image in each 0.5 second\n",
    "    success = getFrame(sec,count,filename)\n",
    "    count += 1\n",
    "    img_count += 1\n",
    "    while success and img_count < 1:\n",
    "        sec = sec + frameRate\n",
    "        sec = round(sec, 2)\n",
    "        success = getFrame(sec,count,filename)\n",
    "        count += 1\n",
    "        img_count += 1\n"
   ]
  },
  {
   "cell_type": "code",
   "execution_count": null,
   "metadata": {},
   "outputs": [],
   "source": []
  },
  {
   "cell_type": "code",
   "execution_count": 3,
   "metadata": {},
   "outputs": [],
   "source": [
    "\n"
   ]
  },
  {
   "cell_type": "code",
   "execution_count": 8,
   "metadata": {},
   "outputs": [],
   "source": [
    "img_path = '/projectnb2/cs505/yizh/pj_data'\n",
    "\n",
    "\n",
    "files = [join(img_path,f) for f in listdir(img_path) if isfile(join(img_path,f))]\n",
    "files.sort()\n",
    "img = []\n",
    "for i in range(len(files)):\n",
    "    img.append(cv2.imread(files[i]))\n",
    "\n"
   ]
  },
  {
   "cell_type": "code",
   "execution_count": 10,
   "metadata": {},
   "outputs": [],
   "source": [
    "def find_center(c):\n",
    "\n",
    "    M = cv2.moments(c)\n",
    "    if M['m00'] == 0:\n",
    "        cX = int(c[0][0][0])\n",
    "        cY = int(c[0][0][1])\n",
    "    else:\n",
    "        cX = int(M['m10']/M['m00'])\n",
    "        cY = int(M['m01']/M['m00'])\n",
    "\n",
    "    return cX,cY\n",
    "\n",
    "def my_frame_differencing(prev, curr):\n",
    "    '''\n",
    "    Function that does frame differencing between the current frame and the previous frame\n",
    "    Args:\n",
    "        src The current color image\n",
    "        prev The previous color image\n",
    "    Returns:\n",
    "        dst The destination grayscale image where pixels are colored white if the corresponding pixel intensities in the current\n",
    "    and previous image are not the same\n",
    "    '''\n",
    "    dst = cv2.absdiff(prev, curr)\n",
    "    gs = cv2.cvtColor(dst, cv2.COLOR_BGR2GRAY)\n",
    "    dst = (gs > 20).astype(np.uint8) * 255\n",
    "    return dst"
   ]
  },
  {
   "cell_type": "code",
   "execution_count": 16,
   "metadata": {},
   "outputs": [],
   "source": [
    "stroing_path = '/projectnb2/cs505/yizh/pj_data'\n",
    "bg = cv2.imread('/projectnb2/cs505/yizh/pj_data/image0.png')\n",
    "\n",
    "w,h=bg.shape[1],bg.shape[0]\n",
    "dim = (w*4,h*4)\n",
    "bg = cv2.resize(bg, dim, interpolation = cv2.INTER_AREA)\n",
    "\n",
    "img_indx = 0\n",
    "count = 1\n",
    "while img_indx < len(files):\n",
    "# while img_indx < 50:\n",
    "    cur = img[img_indx]\n",
    "    cur = cv2.resize(cur, dim, interpolation = cv2.INTER_AREA)\n",
    "    \n",
    "    #print(img_indx)\n",
    "    diff = my_frame_differencing(bg, cur)\n",
    "\n",
    "    # gray = cv2.cvtColor(diff, cv2.COLOR_BGR2GRAY)\n",
    "\n",
    "    thres_output = cv2.adaptiveThreshold(diff,255,cv2.ADAPTIVE_THRESH_GAUSSIAN_C, cv2.THRESH_BINARY,207,-5)\n",
    "    contours, hierarchy = cv2.findContours(thres_output, cv2.RETR_EXTERNAL, cv2.CHAIN_APPROX_SIMPLE)\n",
    "    \n",
    "\n",
    "    if (len(contours) > 0):\n",
    "        # Find largest contour\n",
    "        max_id = max(enumerate(contours), key=lambda x : cv2.contourArea(x[1]))[0]\n",
    "        max_size = cv2.contourArea(contours[max_id])\n",
    "        boundrec = cv2.boundingRect(contours[max_id])\n",
    "        cv2.drawContours(cur, contours, max_id, (255, 255, 255), 2, 8)\n",
    "        cv2.rectangle(cur, boundrec, (0, 255, 0), 1, 8, 0)\n",
    "        X,Y = find_center(contours[max_id])\n",
    "        #print(X,Y)\n",
    "\n",
    "\n",
    "    #cropped = cur[Y-200:Y+200,X-200:X+200]\n",
    "    #cropped = cur = cv2.resize(cropped, (256,256), interpolation = cv2.INTER_AREA)\n",
    "    \n",
    "\n",
    "\n",
    "\n",
    "    cv2.imwrite(os.path.join(stroing_path,'image'+str(count)+\".png\"), cur)     # save frame as JPG file\n",
    "    \n",
    "    count += 1\n",
    "    img_indx += 1\n",
    "    \n",
    "    \n",
    "    \n",
    "\n"
   ]
  },
  {
   "cell_type": "code",
   "execution_count": 84,
   "metadata": {},
   "outputs": [
    {
     "data": {
      "text/plain": [
       "(384, 384, 3)"
      ]
     },
     "execution_count": 84,
     "metadata": {},
     "output_type": "execute_result"
    }
   ],
   "source": [
    "cropped.shape"
   ]
  },
  {
   "cell_type": "code",
   "execution_count": null,
   "metadata": {},
   "outputs": [],
   "source": []
  }
 ],
 "metadata": {
  "kernelspec": {
   "display_name": "Python 3",
   "language": "python",
   "name": "python3"
  },
  "language_info": {
   "codemirror_mode": {
    "name": "ipython",
    "version": 3
   },
   "file_extension": ".py",
   "mimetype": "text/x-python",
   "name": "python",
   "nbconvert_exporter": "python",
   "pygments_lexer": "ipython3",
   "version": "3.8.6"
  }
 },
 "nbformat": 4,
 "nbformat_minor": 4
}
